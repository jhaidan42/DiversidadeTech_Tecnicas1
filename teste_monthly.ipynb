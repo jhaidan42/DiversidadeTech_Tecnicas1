{
  "cells": [
    {
      "cell_type": "code",
      "execution_count": 8,
      "metadata": {
        "id": "Ca8drzJysLWd"
      },
      "outputs": [],
      "source": [
        "import requests\n",
        "import pandas as pd\n",
        "import numpy as np\n",
        "import numpy.random as rd\n",
        "from datetime import datetime"
      ]
    },
    {
      "cell_type": "code",
      "execution_count": 9,
      "metadata": {
        "id": "if3f-grhsLWf"
      },
      "outputs": [],
      "source": [
        "def data_clearing(data: dict):\n",
        "    '''\n",
        "    Function for data clearing\n",
        "    All data will be format (date in date format, products between 1 and 7 for\n",
        "    int values, products between 8 and 20 for float value). Sales with\n",
        "    quantitative smaller than zero  and  products outside the range 1 to 20\n",
        "    will be erased\n",
        "    : param data: a dictionary with the sales\n",
        "    : return: a pd.DataFrame affer data clearing\n",
        "    '''\n",
        "    for i in range(len(data)):\n",
        "      clean_data = data[i].copy()\n",
        "      clean_data['date'] = datetime.fromtimestamp(data[i]['date']).strftime(\"%d-%m-%Y\")\n",
        "      clean_data['week'] = datetime.fromtimestamp(data[i]['date']).strftime(\"%U\")\n",
        "      clean_data['month'] = datetime.fromtimestamp(data[i]['date']).month         # Date-formatted value\n",
        "      clean_data['year'] = datetime.fromtimestamp(data[i]['date']).year\n",
        "\n",
        "      for key, value in data[i].items():                                          # Clean data\n",
        "        if key not in ['id','date']:\n",
        "          if value <= 0:\n",
        "            clean_data.pop(key)                                                   # Erase product sales with quantitative smaller than zero\n",
        "          elif key in PRODUCT_UNIT:\n",
        "            clean_data[key] = int(data[i][key])                                   # Int-formatted values ​​for products between 1 and 7\n",
        "          elif key in PRODUCT_KG:\n",
        "            clean_data[key] = float(data[i][key])                                 # Float-formatted values ​​for products between 8 and 20\n",
        "          else:\n",
        "            clean_data.pop(key)                                                   # Erase product sales for products not between 1 and 20          \n",
        "      \n",
        "      for j in PRODUCT_UNIT:\n",
        "        if j not in clean_data:\n",
        "          clean_data[j] = 0\t\n",
        "          \n",
        "      for j in PRODUCT_KG:\n",
        "        if j not in clean_data:\n",
        "          clean_data[j] = 0.0\n",
        "          \n",
        "      data[i] = clean_data.copy()\n",
        "    return pd.DataFrame(data)"
      ]
    },
    {
      "cell_type": "code",
      "execution_count": 10,
      "metadata": {
        "id": "fBMr5uigsLWg"
      },
      "outputs": [],
      "source": [
        "def request_server(url: str ='http://localhost:3000/api/ep1'): \n",
        "    sales_week  = requests.get(url).json()\n",
        "    sales_week = data_clearing(sales_week)\n",
        "    sales_week = sales_week[COLUMNS_ORDER]      \n",
        "    return sales_week"
      ]
    },
    {
      "cell_type": "code",
      "execution_count": 11,
      "metadata": {
        "id": "HHAGbAXQ39Bj"
      },
      "outputs": [],
      "source": [
        "def all_sales(df_sales_week, file: str = 'all_sales.csv'):\n",
        "    try: \n",
        "        df_all_sales = pd.read_csv(file)\n",
        "    except FileNotFoundError:\n",
        "        with open('all_sales.csv', 'w') as f:\n",
        "            f.write('id,date,week,month,year,prod_1,prod_2,prod_3,prod_4,prod_5,prod_6,prod_7,prod_8,prod_9,prod_10,prod_11,prod_12,prod_13,prod_14,prod_15,prod_16,prod_17,prod_18,prod_19,prod_20\\n')\n",
        "        df_all_sales = pd.read_csv(file)\n",
        "    df_sales_week.to_csv(file, mode='a', index= False, header=False)                        # Saving the data in a csv file\n",
        "  "
      ]
    },
    {
      "cell_type": "code",
      "execution_count": 45,
      "metadata": {
        "colab": {
          "base_uri": "https://localhost:8080/",
          "height": 275
        },
        "id": "idKDmzzVsLWh",
        "outputId": "9951e900-7728-4b33-d30b-51d96af2e14b"
      },
      "outputs": [
        {
          "data": {
            "text/html": [
              "<div>\n",
              "<style scoped>\n",
              "    .dataframe tbody tr th:only-of-type {\n",
              "        vertical-align: middle;\n",
              "    }\n",
              "\n",
              "    .dataframe tbody tr th {\n",
              "        vertical-align: top;\n",
              "    }\n",
              "\n",
              "    .dataframe thead th {\n",
              "        text-align: right;\n",
              "    }\n",
              "</style>\n",
              "<table border=\"1\" class=\"dataframe\">\n",
              "  <thead>\n",
              "    <tr style=\"text-align: right;\">\n",
              "      <th></th>\n",
              "      <th>id</th>\n",
              "      <th>date</th>\n",
              "      <th>week</th>\n",
              "      <th>month</th>\n",
              "      <th>year</th>\n",
              "      <th>prod_1</th>\n",
              "      <th>prod_2</th>\n",
              "      <th>prod_3</th>\n",
              "      <th>prod_4</th>\n",
              "      <th>prod_5</th>\n",
              "      <th>...</th>\n",
              "      <th>prod_11</th>\n",
              "      <th>prod_12</th>\n",
              "      <th>prod_13</th>\n",
              "      <th>prod_14</th>\n",
              "      <th>prod_15</th>\n",
              "      <th>prod_16</th>\n",
              "      <th>prod_17</th>\n",
              "      <th>prod_18</th>\n",
              "      <th>prod_19</th>\n",
              "      <th>prod_20</th>\n",
              "    </tr>\n",
              "  </thead>\n",
              "  <tbody>\n",
              "    <tr>\n",
              "      <th>0</th>\n",
              "      <td>lacvp2q7twf4yqbd5to</td>\n",
              "      <td>12-02-2020</td>\n",
              "      <td>06</td>\n",
              "      <td>2</td>\n",
              "      <td>2020</td>\n",
              "      <td>17</td>\n",
              "      <td>46</td>\n",
              "      <td>20</td>\n",
              "      <td>12</td>\n",
              "      <td>20</td>\n",
              "      <td>...</td>\n",
              "      <td>0.000000</td>\n",
              "      <td>0.0</td>\n",
              "      <td>0.0</td>\n",
              "      <td>0.0</td>\n",
              "      <td>557.500210</td>\n",
              "      <td>0.0</td>\n",
              "      <td>0.0</td>\n",
              "      <td>0.0</td>\n",
              "      <td>0.0</td>\n",
              "      <td>0.0</td>\n",
              "    </tr>\n",
              "    <tr>\n",
              "      <th>1</th>\n",
              "      <td>lacvp2q77uss7uw0i02</td>\n",
              "      <td>12-02-2020</td>\n",
              "      <td>06</td>\n",
              "      <td>2</td>\n",
              "      <td>2020</td>\n",
              "      <td>48</td>\n",
              "      <td>27</td>\n",
              "      <td>19</td>\n",
              "      <td>0</td>\n",
              "      <td>36</td>\n",
              "      <td>...</td>\n",
              "      <td>381.588809</td>\n",
              "      <td>0.0</td>\n",
              "      <td>0.0</td>\n",
              "      <td>0.0</td>\n",
              "      <td>44.187491</td>\n",
              "      <td>0.0</td>\n",
              "      <td>0.0</td>\n",
              "      <td>0.0</td>\n",
              "      <td>0.0</td>\n",
              "      <td>0.0</td>\n",
              "    </tr>\n",
              "  </tbody>\n",
              "</table>\n",
              "<p>2 rows × 25 columns</p>\n",
              "</div>"
            ],
            "text/plain": [
              "                    id        date week  month  year  prod_1  prod_2  prod_3  \\\n",
              "0  lacvp2q7twf4yqbd5to  12-02-2020   06      2  2020      17      46      20   \n",
              "1  lacvp2q77uss7uw0i02  12-02-2020   06      2  2020      48      27      19   \n",
              "\n",
              "   prod_4  prod_5  ...     prod_11  prod_12  prod_13  prod_14     prod_15  \\\n",
              "0      12      20  ...    0.000000      0.0      0.0      0.0  557.500210   \n",
              "1       0      36  ...  381.588809      0.0      0.0      0.0   44.187491   \n",
              "\n",
              "   prod_16  prod_17  prod_18  prod_19  prod_20  \n",
              "0      0.0      0.0      0.0      0.0      0.0  \n",
              "1      0.0      0.0      0.0      0.0      0.0  \n",
              "\n",
              "[2 rows x 25 columns]"
            ]
          },
          "execution_count": 45,
          "metadata": {},
          "output_type": "execute_result"
        }
      ],
      "source": [
        "PRODUCT_UNIT = [\"prod_1\",\"prod_2\",\"prod_3\",\"prod_4\",\"prod_5\",\"prod_6\",\"prod_7\"]\n",
        "PRODUCT_KG = [\"prod_8\",\"prod_9\",\"prod_10\",\"prod_11\",\"prod_12\",\"prod_13\",\n",
        "              \"prod_14\",\"prod_15\",\"prod_16\",\"prod_17\",\"prod_18\",\"prod_19\",\n",
        "              \"prod_20\"]\n",
        "COLUMNS_ORDER = ['id','date','week','month','year'] + PRODUCT_UNIT + PRODUCT_KG\n",
        "\n",
        "df_sales_week = request_server()\n",
        "all_sales(df_sales_week)\n",
        "df_sales_week.head(2)"
      ]
    },
    {
      "cell_type": "code",
      "execution_count": 34,
      "metadata": {
        "id": "97DdNZIVsLWi"
      },
      "outputs": [],
      "source": [
        "def monthly_sales(df_sales_week, url: str ='http://localhost:3000/api/ep1', file: str ='monthly_sales.csv'):\n",
        "    '''\n",
        "    Function for monthly sales\n",
        "    : param url: url for the request\n",
        "    : param file: file for the monthly sales\n",
        "    : return: a csv file with the monthly sales\n",
        "    '''\n",
        "    try: \n",
        "        df_monthly_sales = pd.read_csv(file)\n",
        "    except FileNotFoundError:\n",
        "        with open('monthly_sales.csv', 'w') as f:\n",
        "            f.write('month,year,prod_1,prod_2,prod_3,prod_4,prod_5,prod_6,prod_7,prod_8,prod_9,prod_10,prod_11,prod_12,prod_13,prod_14,prod_15,prod_16,prod_17,prod_18,prod_19,prod_20\\n')\n",
        "        df_monthly_sales = pd.read_csv(file)\n",
        "\n",
        "    if not df_monthly_sales.empty:\n",
        "        df_sales = df_sales_week.groupby(['month','year']).sum(numeric_only=True)  \n",
        "        df_monthly_sales = df_monthly_sales.groupby(['month','year']).sum(numeric_only=True)\n",
        "        df_monthly_sales = df_monthly_sales.add(df_sales, fill_value=0)                  # Grouping by date\n",
        "    else:\n",
        "        df_monthly_sales = df_sales_week.groupby(['month','year']).sum(numeric_only=True)\n",
        "\n",
        "    with open('monthly_sales.csv', 'w') as f:\n",
        "            f.write('month,year,prod_1,prod_2,prod_3,prod_4,prod_5,prod_6,prod_7,prod_8,prod_9,prod_10,prod_11,prod_12,prod_13,prod_14,prod_15,prod_16,prod_17,prod_18,prod_19,prod_20\\n')\n",
        "    df_monthly_sales.to_csv(file, mode='a', header=False)                        # Saving the data in a csv file\n",
        "    return df_monthly_sales"
      ]
    },
    {
      "cell_type": "code",
      "execution_count": 46,
      "metadata": {
        "id": "Hgw6aCEGsLWj"
      },
      "outputs": [
        {
          "name": "stderr",
          "output_type": "stream",
          "text": [
            "C:\\Users\\davir\\AppData\\Local\\Temp\\ipykernel_4024\\2957142506.py:16: FutureWarning: The default value of numeric_only in DataFrameGroupBy.sum is deprecated. In a future version, numeric_only will default to False. Either specify numeric_only or select only columns which should be valid for the function.\n",
            "  df_sales = df_sales_week.groupby(['month','year']).sum()\n"
          ]
        }
      ],
      "source": [
        "df_monthly_sales = monthly_sales(df_sales_week=df_sales_week)"
      ]
    }
  ],
  "metadata": {
    "colab": {
      "provenance": []
    },
    "kernelspec": {
      "display_name": "Python 3.10.7 64-bit",
      "language": "python",
      "name": "python3"
    },
    "language_info": {
      "codemirror_mode": {
        "name": "ipython",
        "version": 3
      },
      "file_extension": ".py",
      "mimetype": "text/x-python",
      "name": "python",
      "nbconvert_exporter": "python",
      "pygments_lexer": "ipython3",
      "version": "3.10.7"
    },
    "orig_nbformat": 4,
    "vscode": {
      "interpreter": {
        "hash": "633a9c8b0f2186a94d01301c2b42c70751339e61eeba8cf45ca4ef10fecfe65b"
      }
    }
  },
  "nbformat": 4,
  "nbformat_minor": 0
}
